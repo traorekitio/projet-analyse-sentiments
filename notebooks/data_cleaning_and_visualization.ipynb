{
 "cells": [
  {
   "cell_type": "code",
   "execution_count": 1,
   "metadata": {},
   "outputs": [
    {
     "name": "stdout",
     "output_type": "stream",
     "text": [
      "Defaulting to user installation because normal site-packages is not writeable\n",
      "Collecting matplotlib\n",
      "  Using cached matplotlib-3.10.0-cp312-cp312-win_amd64.whl.metadata (11 kB)\n",
      "Collecting contourpy>=1.0.1 (from matplotlib)\n",
      "  Using cached contourpy-1.3.1-cp312-cp312-win_amd64.whl.metadata (5.4 kB)\n",
      "Collecting cycler>=0.10 (from matplotlib)\n",
      "  Using cached cycler-0.12.1-py3-none-any.whl.metadata (3.8 kB)\n",
      "Collecting fonttools>=4.22.0 (from matplotlib)\n",
      "  Using cached fonttools-4.55.3-cp312-cp312-win_amd64.whl.metadata (168 kB)\n",
      "Collecting kiwisolver>=1.3.1 (from matplotlib)\n",
      "  Using cached kiwisolver-1.4.7-cp312-cp312-win_amd64.whl.metadata (6.4 kB)\n",
      "Requirement already satisfied: numpy>=1.23 in c:\\users\\mounira kitio traore\\appdata\\roaming\\python\\python312\\site-packages (from matplotlib) (2.2.0)\n",
      "Requirement already satisfied: packaging>=20.0 in c:\\users\\mounira kitio traore\\appdata\\roaming\\python\\python312\\site-packages (from matplotlib) (24.1)\n",
      "Collecting pillow>=8 (from matplotlib)\n",
      "  Using cached pillow-11.0.0-cp312-cp312-win_amd64.whl.metadata (9.3 kB)\n",
      "Collecting pyparsing>=2.3.1 (from matplotlib)\n",
      "  Using cached pyparsing-3.2.0-py3-none-any.whl.metadata (5.0 kB)\n",
      "Requirement already satisfied: python-dateutil>=2.7 in c:\\users\\mounira kitio traore\\appdata\\roaming\\python\\python312\\site-packages (from matplotlib) (2.9.0.post0)\n",
      "Requirement already satisfied: six>=1.5 in c:\\users\\mounira kitio traore\\appdata\\roaming\\python\\python312\\site-packages (from python-dateutil>=2.7->matplotlib) (1.16.0)\n",
      "Downloading matplotlib-3.10.0-cp312-cp312-win_amd64.whl (8.0 MB)\n",
      "   ---------------------------------------- 0.0/8.0 MB ? eta -:--:--\n",
      "   ---------------------------------------- 0.0/8.0 MB ? eta -:--:--\n",
      "   -- ------------------------------------- 0.5/8.0 MB 2.8 MB/s eta 0:00:03\n",
      "   --- ------------------------------------ 0.8/8.0 MB 2.8 MB/s eta 0:00:03\n",
      "   ------- -------------------------------- 1.6/8.0 MB 2.3 MB/s eta 0:00:03\n",
      "   ----------- ---------------------------- 2.4/8.0 MB 2.6 MB/s eta 0:00:03\n",
      "   ------------- -------------------------- 2.6/8.0 MB 2.5 MB/s eta 0:00:03\n",
      "   ------------------ --------------------- 3.7/8.0 MB 2.6 MB/s eta 0:00:02\n",
      "   -------------------- ------------------- 4.2/8.0 MB 2.6 MB/s eta 0:00:02\n",
      "   ----------------------- ---------------- 4.7/8.0 MB 2.6 MB/s eta 0:00:02\n",
      "   --------------------------- ------------ 5.5/8.0 MB 2.7 MB/s eta 0:00:01\n",
      "   ----------------------------- ---------- 6.0/8.0 MB 2.7 MB/s eta 0:00:01\n",
      "   --------------------------------- ------ 6.8/8.0 MB 2.7 MB/s eta 0:00:01\n",
      "   ----------------------------------- ---- 7.1/8.0 MB 2.8 MB/s eta 0:00:01\n",
      "   ------------------------------------- -- 7.6/8.0 MB 2.6 MB/s eta 0:00:01\n",
      "   ---------------------------------------- 8.0/8.0 MB 2.6 MB/s eta 0:00:00\n",
      "Downloading contourpy-1.3.1-cp312-cp312-win_amd64.whl (220 kB)\n",
      "Downloading cycler-0.12.1-py3-none-any.whl (8.3 kB)\n",
      "Downloading fonttools-4.55.3-cp312-cp312-win_amd64.whl (2.2 MB)\n",
      "   ---------------------------------------- 0.0/2.2 MB ? eta -:--:--\n",
      "   --------- ------------------------------ 0.5/2.2 MB 3.4 MB/s eta 0:00:01\n",
      "   ------------------ --------------------- 1.0/2.2 MB 3.0 MB/s eta 0:00:01\n",
      "   ---------------------------- ----------- 1.6/2.2 MB 2.7 MB/s eta 0:00:01\n",
      "   ---------------------------------------- 2.2/2.2 MB 2.6 MB/s eta 0:00:00\n",
      "Downloading kiwisolver-1.4.7-cp312-cp312-win_amd64.whl (55 kB)\n",
      "Downloading pillow-11.0.0-cp312-cp312-win_amd64.whl (2.6 MB)\n",
      "   ---------------------------------------- 0.0/2.6 MB ? eta -:--:--\n",
      "   -------- ------------------------------- 0.5/2.6 MB 2.8 MB/s eta 0:00:01\n",
      "   ---------------- ----------------------- 1.0/2.6 MB 3.0 MB/s eta 0:00:01\n",
      "   ------------------------ --------------- 1.6/2.6 MB 2.7 MB/s eta 0:00:01\n",
      "   -------------------------------- ------- 2.1/2.6 MB 2.5 MB/s eta 0:00:01\n",
      "   ---------------------------------------- 2.6/2.6 MB 2.6 MB/s eta 0:00:00\n",
      "Downloading pyparsing-3.2.0-py3-none-any.whl (106 kB)\n",
      "Installing collected packages: pyparsing, pillow, kiwisolver, fonttools, cycler, contourpy, matplotlib\n",
      "Successfully installed contourpy-1.3.1 cycler-0.12.1 fonttools-4.55.3 kiwisolver-1.4.7 matplotlib-3.10.0 pillow-11.0.0 pyparsing-3.2.0\n"
     ]
    },
    {
     "name": "stderr",
     "output_type": "stream",
     "text": [
      "\n",
      "[notice] A new release of pip is available: 24.2 -> 24.3.1\n",
      "[notice] To update, run: python.exe -m pip install --upgrade pip\n"
     ]
    }
   ],
   "source": [
    "! pip install matplotlib"
   ]
  },
  {
   "cell_type": "code",
   "execution_count": 3,
   "metadata": {},
   "outputs": [
    {
     "name": "stdout",
     "output_type": "stream",
     "text": [
      "Defaulting to user installation because normal site-packages is not writeable\n",
      "Collecting wordcloud\n",
      "  Downloading wordcloud-1.9.4-cp312-cp312-win_amd64.whl.metadata (3.5 kB)\n",
      "Requirement already satisfied: numpy>=1.6.1 in c:\\users\\mounira kitio traore\\appdata\\roaming\\python\\python312\\site-packages (from wordcloud) (2.2.0)\n",
      "Requirement already satisfied: pillow in c:\\users\\mounira kitio traore\\appdata\\roaming\\python\\python312\\site-packages (from wordcloud) (11.0.0)\n",
      "Requirement already satisfied: matplotlib in c:\\users\\mounira kitio traore\\appdata\\roaming\\python\\python312\\site-packages (from wordcloud) (3.10.0)\n",
      "Requirement already satisfied: contourpy>=1.0.1 in c:\\users\\mounira kitio traore\\appdata\\roaming\\python\\python312\\site-packages (from matplotlib->wordcloud) (1.3.1)\n",
      "Requirement already satisfied: cycler>=0.10 in c:\\users\\mounira kitio traore\\appdata\\roaming\\python\\python312\\site-packages (from matplotlib->wordcloud) (0.12.1)\n",
      "Requirement already satisfied: fonttools>=4.22.0 in c:\\users\\mounira kitio traore\\appdata\\roaming\\python\\python312\\site-packages (from matplotlib->wordcloud) (4.55.3)\n",
      "Requirement already satisfied: kiwisolver>=1.3.1 in c:\\users\\mounira kitio traore\\appdata\\roaming\\python\\python312\\site-packages (from matplotlib->wordcloud) (1.4.7)\n",
      "Requirement already satisfied: packaging>=20.0 in c:\\users\\mounira kitio traore\\appdata\\roaming\\python\\python312\\site-packages (from matplotlib->wordcloud) (24.1)\n",
      "Requirement already satisfied: pyparsing>=2.3.1 in c:\\users\\mounira kitio traore\\appdata\\roaming\\python\\python312\\site-packages (from matplotlib->wordcloud) (3.2.0)\n",
      "Requirement already satisfied: python-dateutil>=2.7 in c:\\users\\mounira kitio traore\\appdata\\roaming\\python\\python312\\site-packages (from matplotlib->wordcloud) (2.9.0.post0)\n",
      "Requirement already satisfied: six>=1.5 in c:\\users\\mounira kitio traore\\appdata\\roaming\\python\\python312\\site-packages (from python-dateutil>=2.7->matplotlib->wordcloud) (1.16.0)\n",
      "Downloading wordcloud-1.9.4-cp312-cp312-win_amd64.whl (301 kB)\n",
      "Installing collected packages: wordcloud\n",
      "Successfully installed wordcloud-1.9.4\n"
     ]
    },
    {
     "name": "stderr",
     "output_type": "stream",
     "text": [
      "\n",
      "[notice] A new release of pip is available: 24.2 -> 24.3.1\n",
      "[notice] To update, run: python.exe -m pip install --upgrade pip\n"
     ]
    }
   ],
   "source": [
    "! pip install wordcloud"
   ]
  },
  {
   "cell_type": "markdown",
   "metadata": {},
   "source": [
    "Importation des bibliothèques"
   ]
  },
  {
   "cell_type": "code",
   "execution_count": 1,
   "metadata": {},
   "outputs": [],
   "source": [
    "import pandas as pd\n",
    "import matplotlib.pyplot as plt\n",
    "from wordcloud import WordCloud\n",
    "import re"
   ]
  },
  {
   "cell_type": "markdown",
   "metadata": {},
   "source": [
    "Chargement des données"
   ]
  },
  {
   "cell_type": "code",
   "execution_count": 2,
   "metadata": {},
   "outputs": [
    {
     "name": "stdout",
     "output_type": "stream",
     "text": [
      "                        Date          Utilisateur  \\\n",
      "0  2024-12-21 14:02:47+00:00            408924361   \n",
      "1  2024-12-21 14:02:46+00:00  1626922728296005641   \n",
      "2  2024-12-21 14:02:45+00:00             12118772   \n",
      "3  2024-12-21 14:02:45+00:00  1438356504948756480   \n",
      "4  2024-12-21 14:02:45+00:00             12118772   \n",
      "\n",
      "                                               Texte  Likes  Retweets  \n",
      "0  @TheSavBananas @Vikings Imagine thinking you c...      0         0  \n",
      "1  RT @funildombl: TCE-PE vê superfaturamento de ...      0         2  \n",
      "2  Discover how our expertise in marketing techno...      0         0  \n",
      "3  \"Think of each piece of content as a brushstro...      0         0  \n",
      "4  By using reliable tools that provide clear ins...      0         0  \n",
      "Nombre de lignes et colonnes : (100, 5)\n",
      "<class 'pandas.core.frame.DataFrame'>\n",
      "RangeIndex: 100 entries, 0 to 99\n",
      "Data columns (total 5 columns):\n",
      " #   Column       Non-Null Count  Dtype \n",
      "---  ------       --------------  ----- \n",
      " 0   Date         100 non-null    object\n",
      " 1   Utilisateur  100 non-null    int64 \n",
      " 2   Texte        100 non-null    object\n",
      " 3   Likes        100 non-null    int64 \n",
      " 4   Retweets     100 non-null    int64 \n",
      "dtypes: int64(3), object(2)\n",
      "memory usage: 4.0+ KB\n",
      "None\n"
     ]
    }
   ],
   "source": [
    "# Charger le fichier CSV\n",
    "file_path = '../data/tweets_marketing_raw.csv'  # Chemin du fichier\n",
    "data = pd.read_csv(file_path)\n",
    "\n",
    "# Aperçu des données\n",
    "print(data.head())\n",
    "print(f\"Nombre de lignes et colonnes : {data.shape}\")\n",
    "print(data.info())\n"
   ]
  },
  {
   "cell_type": "markdown",
   "metadata": {},
   "source": []
  }
 ],
 "metadata": {
  "kernelspec": {
   "display_name": "Python 3",
   "language": "python",
   "name": "python3"
  },
  "language_info": {
   "codemirror_mode": {
    "name": "ipython",
    "version": 3
   },
   "file_extension": ".py",
   "mimetype": "text/x-python",
   "name": "python",
   "nbconvert_exporter": "python",
   "pygments_lexer": "ipython3",
   "version": "3.12.4"
  }
 },
 "nbformat": 4,
 "nbformat_minor": 2
}
